{
  "cells": [
    {
      "cell_type": "code",
      "source": [
        "import tensorflow as tf\n",
        "from tensorflow import keras"
      ],
      "outputs": [
        {
          "output_type": "stream",
          "name": "stderr",
          "text": "2025-03-10 21:14:12.371391: I tensorflow/core/util/port.cc:153] oneDNN custom operations are on. You may see slightly different numerical results due to floating-point round-off errors from different computation orders. To turn them off, set the environment variable `TF_ENABLE_ONEDNN_OPTS=0`.\n2025-03-10 21:14:12.386414: E external/local_xla/xla/stream_executor/cuda/cuda_fft.cc:485] Unable to register cuFFT factory: Attempting to register factory for plugin cuFFT when one has already been registered\n2025-03-10 21:14:12.404188: E external/local_xla/xla/stream_executor/cuda/cuda_dnn.cc:8454] Unable to register cuDNN factory: Attempting to register factory for plugin cuDNN when one has already been registered\n2025-03-10 21:14:12.409459: E external/local_xla/xla/stream_executor/cuda/cuda_blas.cc:1452] Unable to register cuBLAS factory: Attempting to register factory for plugin cuBLAS when one has already been registered\n2025-03-10 21:14:12.422271: I tensorflow/core/platform/cpu_feature_guard.cc:210] This TensorFlow binary is optimized to use available CPU instructions in performance-critical operations.\nTo enable the following instructions: AVX2 AVX512F AVX512_VNNI FMA, in other operations, rebuild TensorFlow with the appropriate compiler flags.\n2025-03-10 21:14:13.324990: W tensorflow/compiler/tf2tensorrt/utils/py_utils.cc:38] TF-TRT Warning: Could not find TensorRT\n"
        }
      ],
      "execution_count": 1,
      "metadata": {
        "gather": {
          "logged": 1741641254129
        }
      }
    },
    {
      "cell_type": "code",
      "source": [
        "class PlaylistTower(keras.Model):\n",
        "    '''\n",
        "    Produced embedding represents the features of a playlist known at query time.\n",
        "    '''\n",
        "    def __init__(self, layer_sizes, vocab_dict):\n",
        "        super().__init__()\n",
        "        # TODO: build sequential model for each feature here.\n",
        "\n",
        "        # Feature: pl_name_src\n",
        "        self.pl_name_src_text_embedding = keras.Sequential([\n",
        "            keras.layers.TextVectorization(\n",
        "                vocabulary=vocab_dict['pl_name_src'],\n",
        "                ngram=2,\n",
        "                name='pl_name_src_textvectorizor'\n",
        "            ),\n",
        "            keras.layers.Embedding(\n",
        "                input_dim = MAX_TOKENS,\n",
        "                output_dim = EMBEDDING_DIM,\n",
        "                name = \"pl_name_src_emb_layer\",\n",
        "                mask_zero=False\n",
        "            ),\n",
        "            keras.layers.GlobalAveragePooling1D(\n",
        "                name=\"pl_name_src_id\"\n",
        "            )\n",
        "        ], name=\"pl_name_src_text_embedding\")\n",
        "\n",
        "        # Feature: artist_genres_pl\n",
        "        self.artist_genres_pl_embedding = tf.keras.Sequential([\n",
        "            tf.keras.layers.TextVectorization(\n",
        "                ngrams=2,\n",
        "                vocabulary=vocab_dict['artist_genres_pl'],\n",
        "                name=\"artist_genres_pl_textvectorizor\"\n",
        "            ),\n",
        "            tf.keras.layers.Embedding(\n",
        "                input_dim=MAX_TOKENS, \n",
        "                output_dim=EMBED_DIM,\n",
        "                name=\"artist_genres_pl_emb_layer\",\n",
        "                mask_zero=False\n",
        "            ),\n",
        "            tf.keras.layers.Reshape([-1, MAX_PL_LENGTH, EMBED_DIM]),\n",
        "            tf.keras.layers.GlobalAveragePooling2D(name=\"artist_genres_pl_2d\"),\n",
        "        ], name=\"artist_genres_pl_emb_model\")\n",
        "            \n",
        "    def call(self, data):\n",
        "        '''\n",
        "        Defines what happens when the model is called.\n",
        "        '''\n",
        "        all_embs = tf.concat([\n",
        "            # TODO: concatenate output of all features defined above\n",
        "        ], axis=1)\n",
        "        # Pass output to dense / cross layers\n",
        "        if self._cross_layer is not None:\n",
        "            cross_embs = self._cross_layer(all_embs)\n",
        "            return self.dense_layers(cross_embs)\n",
        "        else:\n",
        "            return self.dense_layers(all_embs)"
      ],
      "outputs": [],
      "execution_count": 4,
      "metadata": {
        "gather": {
          "logged": 1741642093701
        }
      }
    },
    {
      "cell_type": "code",
      "source": [
        "class CandidateTrackTower(keras.Model):\n",
        "    def __init__(self):\n",
        "        pass\n",
        "    \n",
        "    def call(self):\n",
        "        pass"
      ],
      "outputs": [],
      "execution_count": null,
      "metadata": {}
    },
    {
      "cell_type": "code",
      "source": [
        "class TheTwoTowers(keras.Model):\n",
        "    def __init__(self, layer_sizes, vocab_dict, parsed_candidate_dataset):\n",
        "        super().__init__()\n",
        "\n",
        "        self.query_tower = PlaylistTower(layer_sizes, vocab_dict)\n",
        "\n",
        "        self.candidate_tower = CandidateTrackTower(layer_sizes, vocab_dict)\n",
        "\n",
        "        self.task = tf.tasks.Retrieval(\n",
        "            metrics=tf.metrics.FactorizedTopK(\n",
        "                candidates=parsed_candidate_dataset.batch(128).map(\n",
        "                    self.candidate_tower,\n",
        "                    num_parallel_calls=tf.data.AUTOTUNE\n",
        "                ).prefetch(tf.data.AUTOTUNE)\n",
        "            )\n",
        "        )\n",
        "\n",
        "    def compute_loss(self, data, training=False):\n",
        "        \n",
        "        query_embeddings = self.query_tower(data)\n",
        "        candidate_embeddings = self.candidate_tower(data)\n",
        "        \n",
        "        return self.task(\n",
        "            query_embeddings,\n",
        "            candidate_embeddings,\n",
        "            compute_metrics=not training,\n",
        "            candidate_ids=data['track_uri_can'],\n",
        "            compute_batch_metrics=True\n",
        "        )"
      ],
      "outputs": [],
      "execution_count": null,
      "metadata": {}
    }
  ],
  "metadata": {
    "kernelspec": {
      "name": "python38-azureml-pt-tf",
      "language": "python",
      "display_name": "Python 3.8 - Pytorch and Tensorflow"
    },
    "language_info": {
      "name": "python",
      "version": "3.10.14",
      "mimetype": "text/x-python",
      "codemirror_mode": {
        "name": "ipython",
        "version": 3
      },
      "pygments_lexer": "ipython3",
      "nbconvert_exporter": "python",
      "file_extension": ".py"
    },
    "microsoft": {
      "ms_spell_check": {
        "ms_spell_check_language": "en"
      },
      "host": {
        "AzureML": {
          "notebookHasBeenCompleted": true
        }
      }
    },
    "kernel_info": {
      "name": "python38-azureml-pt-tf"
    },
    "nteract": {
      "version": "nteract-front-end@1.0.0"
    }
  },
  "nbformat": 4,
  "nbformat_minor": 2
}